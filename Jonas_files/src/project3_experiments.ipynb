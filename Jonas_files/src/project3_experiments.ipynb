{
 "cells": [
  {
   "cell_type": "markdown",
   "metadata": {},
   "source": [
    "## Project 3 - Experiments"
   ]
  },
  {
   "cell_type": "code",
   "execution_count": null,
   "metadata": {},
   "outputs": [],
   "source": []
  },
  {
   "cell_type": "markdown",
   "metadata": {},
   "source": [
    "What is the score of an optimal aligment of the first 3 sequences in brca1-testseqs.fasta (i.e. brca1_bos_taurus, brca1_canis_lupus and brca1_gallus_gallus) as computed by your program sp_exact_3? How does an optimal alignment look like?"
   ]
  },
  {
   "cell_type": "raw",
   "metadata": {},
   "source": [
    "(ctib) C:\\Users\\riber\\Programming\\masters\\algorithms\\project3\\algorithms_project3\\Jonas_files>python src\\sp_exact_3.py data\\brca1-testseqs_3seq.fasta -g 5 -m data\\score_matrix.txt\n",
    ">brca1_bos_taurus\n",
    "ATGGATTTATCTGCGGATCATGTTGAAGAAGTACAAAATGTCCTCAATGCTATGCA-GAAAATCTTAG--AGTGTCCAAT-ATGTCTGGAGTTGATCAAAGAG-CCT-GTCTCTACAAAGTGTGA-CCA-CA-TATTTTGCAAATTTTG-TATGCTGAA-AC-TTCTCAACCA-GAAGAAAGGGCCTTCACAATGTCC--TTTGTGTAAGAATGA-\n",
    ">brca1_canis_lupus\n",
    "ATGGATTTATCTGCGGATCGTGTTGAAGAAGTACAAAATGTTCTTAATGCTATGCA-GAAAATCTTAG--AGTGTCCAAT-ATGTCTGGAGTTGATCAAAGAG-CCT-GTTTCTACAAAGTGTGA-TCA-CA-TATTTTGCAAATTTTG-TATGCTGAA-AC-TTCTCAACCA-GAGGAAGGGGCCTTCACAGTGTCC--TTTGTGTAAGAACGA-\n",
    ">brca1_gallus_gallus\n",
    "GCGAA---ATGTA-ACA-CG-GTAGAGGTGAT-CGGGGTG-CGTT-ATAC-GTGCGTGGTGACCTCGGTCGGTGT-TGACGGTGCCTGGGGTTCCTCAGAGTGTTTTGGGGTCTGAAGGATG-GACTTGTCAGTG-ATTGCCATTGGAGACGTGCAAAATGTGCTTTCAGCCATGCAGAA-GAA-CTT-GGAGTGTCCAGTCTGTTTAGATGTGAT\n",
    "\n",
    "Optimal sum-of-pairs score: 790"
   ]
  },
  {
   "cell_type": "markdown",
   "metadata": {},
   "source": [
    "What is the score of the alignment of the first 5 sequences in brca1-testseqs.fasta (i.e. brca1_bos_taurus, brca1_canis_lupus, brca1_gallus_gallus, brca1_homo_sapiens, and brca1_macaca_mulatta) as computed by your program sp_approx? Which of the 5 sequences is choosen as the 'center string'?"
   ]
  },
  {
   "cell_type": "raw",
   "metadata": {},
   "source": [
    "*** NEEDS THE 2-APPROX"
   ]
  },
  {
   "cell_type": "markdown",
   "metadata": {},
   "source": [
    "Make an experiment comparing the scores of the alignments computed by sp_exact_3 and sp_approx that validates that the approximation ratio of sp_approx is 2(k-1)/k for k sequences. i.e 4/3 for three sequences.\n",
    "\n",
    "You should use the testdata in testseqs.zip that contains 20 fasta files (testseqs_10_3.fasta, testseqs_20_3.fasta, ..., testseqs_200_3.fasta) each containing 3 sequences of lengths 10, 20, ..., 200.\n",
    "\n",
    "For each triplet of sequences (i.e. each fasta file), you should compute the optimal score of an MSA using sp_exact_3 and the score of the alignment produced by sp_approx. Make a graph in which you plot the ratio of the computed scores for each sequence length. Comment on what you observe."
   ]
  },
  {
   "cell_type": "code",
   "execution_count": 31,
   "metadata": {},
   "outputs": [
    {
     "name": "stdout",
     "output_type": "stream",
     "text": [
      "{'seq1_10': 'GAAGCGGTGC', 'seq2_10': 'GAGGGGCGCC', 'seq3_10': 'TTAACAACGG'}\n",
      "Optimal sum-of-pairs score: 70\n"
     ]
    }
   ],
   "source": [
    "# *** PARTIALLY NEEDS 2-APPROX *** #\n",
    "   ########## sp_exact_3 #########\n",
    "from sp_exact_3 import * \n",
    "\n",
    "import os\n",
    "\n",
    "# Path to the directory containing the files\n",
    "directory_path = '../data/testseqs'\n",
    "\n",
    "matrix_file = '../data/score_matrix.txt'\n",
    "gap_cost = 5\n",
    "hide_alignments = True\n",
    "\n",
    "score_dct = {}\n",
    "\n",
    "# # Iterate over each file in the directory\n",
    "# for filename in os.listdir(directory_path):\n",
    "#     # Check if the current item is a file\n",
    "#     if os.path.isfile(os.path.join(directory_path, filename)):\n",
    "#          #read fasta file\n",
    "#          print(os.path.join(directory_path, filename))\n",
    "#          sequence_dct = read_fasta_file(os.path.join(directory_path, filename))\n",
    "#          print(sequence_dct)\n",
    "\n",
    "filename = \"testseqs_10_3.fasta\"\n",
    "sequence_dct = read_fasta_file(os.path.join(directory_path, filename))\n",
    "print(sequence_dct)\n",
    "\n",
    "\n",
    "sequence_lst = [] # convert dct values to list\n",
    "iterator = iter(sequence_dct.values()) # Extracting the sequences without their corresponding headers and putting them into a list\n",
    "for _ in range(len(sequence_dct)):\n",
    "      sequence_lst.append(next(iterator))\n",
    "\n",
    "# load score matrix\n",
    "score_matrix = initiate_score_matrix(matrix_file)\n",
    "\n",
    "seq1 = sequence_lst[0]\n",
    "seq2 = sequence_lst[1]\n",
    "seq3 = sequence_lst[2]\n",
    "\n",
    "aligned_sequences = sp_exact_3(seq1, seq2, seq3, gap_cost, score_matrix, hide_alignments = hide_alignments)\n",
    "\n",
    "print(aligned_sequences)\n"
   ]
  }
 ],
 "metadata": {
  "kernelspec": {
   "display_name": "ctib",
   "language": "python",
   "name": "python3"
  },
  "language_info": {
   "codemirror_mode": {
    "name": "ipython",
    "version": 3
   },
   "file_extension": ".py",
   "mimetype": "text/x-python",
   "name": "python",
   "nbconvert_exporter": "python",
   "pygments_lexer": "ipython3",
   "version": "3.10.12"
  }
 },
 "nbformat": 4,
 "nbformat_minor": 2
}
